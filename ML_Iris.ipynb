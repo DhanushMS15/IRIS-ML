{
  "nbformat": 4,
  "nbformat_minor": 0,
  "metadata": {
    "colab": {
      "name": "ML.Iris.ipynb",
      "provenance": [],
      "authorship_tag": "ABX9TyN3gGhj1owTrkF1l178kde+",
      "include_colab_link": true
    },
    "kernelspec": {
      "name": "python3",
      "display_name": "Python 3"
    },
    "language_info": {
      "name": "python"
    }
  },
  "cells": [
    {
      "cell_type": "markdown",
      "metadata": {
        "id": "view-in-github",
        "colab_type": "text"
      },
      "source": [
        "<a href=\"https://colab.research.google.com/github/DhanushMS15/IRIS-ML/blob/main/ML_Iris.ipynb\" target=\"_parent\"><img src=\"https://colab.research.google.com/assets/colab-badge.svg\" alt=\"Open In Colab\"/></a>"
      ]
    },
    {
      "cell_type": "code",
      "metadata": {
        "colab": {
          "base_uri": "https://localhost:8080/"
        },
        "id": "-cjLHlV6j_9q",
        "outputId": "871f7653-df8b-4492-e382-f39cd7434235"
      },
      "source": [
        "from sklearn.datasets import load_iris\n",
        "\n",
        "iris = load_iris()\n",
        "iris\n",
        "\n",
        "from sklearn.tree import DecisionTreeClassifier\n",
        "model = DecisionTreeClassifier()\n",
        "model.fit(iris.data,iris.target)"
      ],
      "execution_count": 2,
      "outputs": [
        {
          "output_type": "execute_result",
          "data": {
            "text/plain": [
              "DecisionTreeClassifier()"
            ]
          },
          "metadata": {},
          "execution_count": 2
        }
      ]
    },
    {
      "cell_type": "code",
      "metadata": {
        "colab": {
          "base_uri": "https://localhost:8080/"
        },
        "id": "TaLEzeIvlSb6",
        "outputId": "d171b952-d6ea-4ddf-ac40-b1615c9a2d78"
      },
      "source": [
        "model.predict([[6.3,3.4,5.6,2.4]])"
      ],
      "execution_count": 3,
      "outputs": [
        {
          "output_type": "execute_result",
          "data": {
            "text/plain": [
              "array([2])"
            ]
          },
          "metadata": {},
          "execution_count": 3
        }
      ]
    },
    {
      "cell_type": "code",
      "metadata": {
        "colab": {
          "base_uri": "https://localhost:8080/"
        },
        "id": "ChVxpgO-mSiW",
        "outputId": "82bd77f6-1784-4f01-9146-e5e91712b2c1"
      },
      "source": [
        "iris.target_names"
      ],
      "execution_count": 4,
      "outputs": [
        {
          "output_type": "execute_result",
          "data": {
            "text/plain": [
              "array(['setosa', 'versicolor', 'virginica'], dtype='<U10')"
            ]
          },
          "metadata": {},
          "execution_count": 4
        }
      ]
    },
    {
      "cell_type": "code",
      "metadata": {
        "colab": {
          "base_uri": "https://localhost:8080/",
          "height": 35
        },
        "id": "EMEfUtmgmWiP",
        "outputId": "6d3ed9fc-eb38-4ba0-97e8-e4340e1fa0ed"
      },
      "source": [
        "op = model.predict([[6.3,3.4,5.6,2.4]])\n",
        "iris.target_names[op[0]]"
      ],
      "execution_count": 7,
      "outputs": [
        {
          "output_type": "execute_result",
          "data": {
            "application/vnd.google.colaboratory.intrinsic+json": {
              "type": "string"
            },
            "text/plain": [
              "'virginica'"
            ]
          },
          "metadata": {},
          "execution_count": 7
        }
      ]
    },
    {
      "cell_type": "code",
      "metadata": {
        "colab": {
          "base_uri": "https://localhost:8080/",
          "height": 35
        },
        "id": "n-nhbXKsmjet",
        "outputId": "943513cf-7320-48df-c3d0-7af235b189c9"
      },
      "source": [
        "from sklearn.datasets import load_iris\n",
        "iris = load_iris()\n",
        "iris\n",
        "from sklearn.tree import DecisionTreeClassifier\n",
        "model = DecisionTreeClassifier()\n",
        "model.fit(iris.data,iris.target) \n",
        "model.predict([[6.3,3.4,5.6,2.4]])\n",
        "iris.target_names\n",
        "op = model.predict([[6.3,3.4,5.6,2.4]])\n",
        "iris.target_names[op[0]]\n"
      ],
      "execution_count": 8,
      "outputs": [
        {
          "output_type": "execute_result",
          "data": {
            "application/vnd.google.colaboratory.intrinsic+json": {
              "type": "string"
            },
            "text/plain": [
              "'virginica'"
            ]
          },
          "metadata": {},
          "execution_count": 8
        }
      ]
    },
    {
      "cell_type": "code",
      "metadata": {
        "colab": {
          "base_uri": "https://localhost:8080/"
        },
        "id": "TPs2vfEwm1xI",
        "outputId": "749916ac-6d7a-48a6-bd67-caeeebb65312"
      },
      "source": [
        "!pip install streamlit --quiet\n",
        "!pip install pyngrok==4.1.1 --quiet\n",
        "from pyngrok import ngrok\n"
      ],
      "execution_count": 10,
      "outputs": [
        {
          "output_type": "stream",
          "name": "stdout",
          "text": [
            "\u001b[K     |████████████████████████████████| 9.1 MB 9.6 MB/s \n",
            "\u001b[K     |████████████████████████████████| 111 kB 73.4 MB/s \n",
            "\u001b[K     |████████████████████████████████| 180 kB 51.1 MB/s \n",
            "\u001b[K     |████████████████████████████████| 178 kB 66.5 MB/s \n",
            "\u001b[K     |████████████████████████████████| 4.3 MB 50.5 MB/s \n",
            "\u001b[K     |████████████████████████████████| 76 kB 4.4 MB/s \n",
            "\u001b[K     |████████████████████████████████| 63 kB 1.6 MB/s \n",
            "\u001b[K     |████████████████████████████████| 125 kB 61.3 MB/s \n",
            "\u001b[K     |████████████████████████████████| 791 kB 39.7 MB/s \n",
            "\u001b[K     |████████████████████████████████| 374 kB 53.9 MB/s \n",
            "\u001b[?25h  Building wheel for pympler (setup.py) ... \u001b[?25l\u001b[?25hdone\n",
            "  Building wheel for blinker (setup.py) ... \u001b[?25l\u001b[?25hdone\n",
            "\u001b[31mERROR: pip's dependency resolver does not currently take into account all the packages that are installed. This behaviour is the source of the following dependency conflicts.\n",
            "jupyter-console 5.2.0 requires prompt-toolkit<2.0.0,>=1.0.0, but you have prompt-toolkit 3.0.23 which is incompatible.\n",
            "google-colab 1.0.0 requires ipykernel~=4.10, but you have ipykernel 6.5.1 which is incompatible.\n",
            "google-colab 1.0.0 requires ipython~=5.5.0, but you have ipython 7.30.0 which is incompatible.\u001b[0m\n",
            "  Building wheel for pyngrok (setup.py) ... \u001b[?25l\u001b[?25hdone\n"
          ]
        }
      ]
    },
    {
      "cell_type": "code",
      "metadata": {
        "colab": {
          "base_uri": "https://localhost:8080/"
        },
        "id": "6sxIEGXYnxKM",
        "outputId": "8fbe9933-7e0f-401a-be71-66865696c08d"
      },
      "source": [
        "%%writefile app.py\n",
        "import streamlit as st\n",
        "st.title('IRIS Machine Learning')\n",
        "from sklearn.datasets import load_iris\n",
        "iris = load_iris()\n",
        "iris\n",
        "from sklearn.tree import DecisionTreeClassifier\n",
        "model = DecisionTreeClassifier()\n",
        "model.fit(iris.data,iris.target) \n",
        "model.predict([[6.3,3.4,5.6,2.4]])\n",
        "iris.target_names\n",
        "sl = st.slider('Sepal Length',4.3,7.9,5.0)\n",
        "sw = st.slider('Sepal Width',2.0,4.4,3.0)\n",
        "pl = st.slider('Petal Length',1.0,6.9,5.0)\n",
        "pw = st.slider('Petal Width',0.1,2.5,0.3)\n",
        "op = model.predict([[sl,sw,pl,pw]])\n",
        "res = iris.target_names[op[0]]\n",
        "st.title(res.upper())"
      ],
      "execution_count": 11,
      "outputs": [
        {
          "output_type": "stream",
          "name": "stdout",
          "text": [
            "Overwriting app.py\n"
          ]
        }
      ]
    },
    {
      "cell_type": "code",
      "metadata": {
        "colab": {
          "base_uri": "https://localhost:8080/"
        },
        "id": "E4t3O6lUnxNL",
        "outputId": "5ffbc08f-4d0e-4e81-d612-9c04125cf23a"
      },
      "source": [
        "!nohup streamlit run app.py &\n",
        "url = ngrok.connect(port = '8501')\n",
        "print(url)\n"
      ],
      "execution_count": 12,
      "outputs": [
        {
          "output_type": "stream",
          "name": "stdout",
          "text": [
            "nohup: appending output to 'nohup.out'\n",
            "http://58df-34-82-237-35.ngrok.io\n"
          ]
        }
      ]
    }
  ]
}